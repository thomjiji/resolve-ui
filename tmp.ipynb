{
 "cells": [
  {
   "cell_type": "code",
   "execution_count": null,
   "metadata": {
    "collapsed": false,
    "pycharm": {
     "name": "#%%\n"
    }
   },
   "outputs": [],
   "source": [
    "from typing import Dict, Union\n",
    "from pybmd import Bmd\n",
    "from pybmd import folder as bmd_folder\n",
    "\n",
    "r = Bmd()\n",
    "media_pool = r.get_project_manager().get_current_project().get_media_pool()\n",
    "root_folder = media_pool.get_root_folder()\n",
    "\n",
    "def get_subfolder_by_name(subfolder_name: str) -> Union[str, bmd_folder.Folder]:\n",
    "    \"\"\"Get subfolder (Folder object) under the root folder in the media\n",
    "    pool.\n",
    "    \"\"\"\n",
    "    all_subfolder = root_folder.get_sub_folder_list()\n",
    "    subfolder_dict: Dict[str, bmd_folder.Folder] = {\n",
    "        subfolder.get_name(): subfolder\n",
    "        for subfolder in all_subfolder\n",
    "    }\n",
    "    return subfolder_dict.get(subfolder_name, \"\")"
   ]
  },
  {
   "cell_type": "code",
   "execution_count": null,
   "metadata": {},
   "outputs": [],
   "source": [
    "import pathlib\n",
    "\n",
    "path = pathlib.Path(\"/Volumes/thom_7_for_Mac/tmp/悠长假期/素材/Day_01/\")\n",
    "path.anchor\n",
    "path_parts = path.parts\n",
    "path.joinpath(path_parts)"
   ]
  },
  {
   "cell_type": "code",
   "execution_count": 12,
   "metadata": {},
   "outputs": [
    {
     "data": {
      "text/plain": [
       "'/Volumes/thom_7_for_Mac/tmp/悠长假期/素材/Day_01'"
      ]
     },
     "execution_count": 12,
     "metadata": {},
     "output_type": "execute_result"
    }
   ],
   "source": [
    "path = \"/Volumes/thom_7_for_Mac/tmp/悠长假期/素材/Day_01/\"\n",
    "\n",
    "path[:-1]"
   ]
  },
  {
   "cell_type": "code",
   "execution_count": null,
   "metadata": {},
   "outputs": [],
   "source": []
  }
 ],
 "metadata": {
  "kernelspec": {
   "display_name": "Python 3.10.7 ('.venv': venv)",
   "language": "python",
   "name": "python3"
  },
  "language_info": {
   "codemirror_mode": {
    "name": "ipython",
    "version": 3
   },
   "file_extension": ".py",
   "mimetype": "text/x-python",
   "name": "python",
   "nbconvert_exporter": "python",
   "pygments_lexer": "ipython3",
   "version": "3.10.7"
  },
  "vscode": {
   "interpreter": {
    "hash": "02a2ddf693e0c6c73b592194f1e36cf4aa82ac37f96714042e39ac36ed2659e7"
   }
  }
 },
 "nbformat": 4,
 "nbformat_minor": 0
}
