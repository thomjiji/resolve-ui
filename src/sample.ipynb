{
 "cells": [
  {
   "cell_type": "code",
   "execution_count": 2,
   "metadata": {},
   "outputs": [
    {
     "data": {
      "text/plain": "['A077_009_20220918.mov',\n 'A077_008_20220918.mov',\n 'A077_010_20220918.mov',\n 'A077_001_20220911.mov',\n 'A077_005_20220918.mov',\n 'A077_004_20220918.mov',\n 'A077_003_20220915.mov',\n 'A077_006_20220918.mov',\n 'A077_002_20220915.mov',\n 'A077_007_20220918.mov']"
     },
     "execution_count": 2,
     "metadata": {},
     "output_type": "execute_result"
    }
   ],
   "source": [
    "import os\n",
    "\n",
    "os.listdir(\"/Volumes/thom_7_for_Mac/01_vlog/2022-09-18（在苏荷时代度过的第一个周末）/01_PRORES_LogC4/\")"
   ]
  },
  {
   "cell_type": "code",
   "execution_count": null,
   "outputs": [],
   "source": [],
   "metadata": {
    "collapsed": false
   }
  }
 ],
 "metadata": {
  "kernelspec": {
   "display_name": "Python 3.10.7 ('.venv': venv)",
   "language": "python",
   "name": "python3"
  },
  "language_info": {
   "codemirror_mode": {
    "name": "ipython",
    "version": 3
   },
   "file_extension": ".py",
   "mimetype": "text/x-python",
   "name": "python",
   "nbconvert_exporter": "python",
   "pygments_lexer": "ipython3",
   "version": "3.10.7"
  },
  "orig_nbformat": 4,
  "vscode": {
   "interpreter": {
    "hash": "02a2ddf693e0c6c73b592194f1e36cf4aa82ac37f96714042e39ac36ed2659e7"
   }
  }
 },
 "nbformat": 4,
 "nbformat_minor": 2
}
