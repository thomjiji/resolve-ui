{
 "cells": [
  {
   "cell_type": "code",
   "execution_count": 2,
   "metadata": {},
   "outputs": [
    {
     "ename": "OSError",
     "evalue": "Failed to load library from libmediainfo.0.dylib, libmediainfo.dylib - dlopen(libmediainfo.0.dylib, 0x0006): tried: 'libmediainfo.0.dylib' (no such file), '/usr/local/lib/libmediainfo.0.dylib' (no such file), '/usr/lib/libmediainfo.0.dylib' (no such file), '/Users/thom/code/resolve-ui/src/libmediainfo.0.dylib' (no such file), dlopen(libmediainfo.dylib, 0x0006): tried: 'libmediainfo.dylib' (no such file), '/usr/local/lib/libmediainfo.dylib' (no such file), '/usr/lib/libmediainfo.dylib' (no such file), '/Users/thom/code/resolve-ui/src/libmediainfo.dylib' (no such file)",
     "output_type": "error",
     "traceback": [
      "\u001b[0;31m---------------------------------------------------------------------------\u001b[0m",
      "\u001b[0;31mOSError\u001b[0m                                   Traceback (most recent call last)",
      "\u001b[1;32m/Users/thom/code/resolve-ui/src/sample.ipynb Cell 1\u001b[0m in \u001b[0;36m<cell line: 3>\u001b[0;34m()\u001b[0m\n\u001b[1;32m      <a href='vscode-notebook-cell:/Users/thom/code/resolve-ui/src/sample.ipynb#W0sZmlsZQ%3D%3D?line=0'>1</a>\u001b[0m \u001b[39mfrom\u001b[39;00m \u001b[39mpymediainfo\u001b[39;00m \u001b[39mimport\u001b[39;00m MediaInfo\n\u001b[0;32m----> <a href='vscode-notebook-cell:/Users/thom/code/resolve-ui/src/sample.ipynb#W0sZmlsZQ%3D%3D?line=2'>3</a>\u001b[0m media_info \u001b[39m=\u001b[39m MediaInfo\u001b[39m.\u001b[39;49mparse(\u001b[39m\"\u001b[39;49m\u001b[39m/Users/thom/Desktop/KAT2-太阳照常升起前-220930.mp4\u001b[39;49m\u001b[39m\"\u001b[39;49m)\n\u001b[1;32m      <a href='vscode-notebook-cell:/Users/thom/code/resolve-ui/src/sample.ipynb#W0sZmlsZQ%3D%3D?line=3'>4</a>\u001b[0m general_track \u001b[39m=\u001b[39m media_info\u001b[39m.\u001b[39mgeneral_tracks[\u001b[39m0\u001b[39m]\n\u001b[1;32m      <a href='vscode-notebook-cell:/Users/thom/code/resolve-ui/src/sample.ipynb#W0sZmlsZQ%3D%3D?line=4'>5</a>\u001b[0m image_track \u001b[39m=\u001b[39m media_info\u001b[39m.\u001b[39mimage_tracks[\u001b[39m0\u001b[39m]\n",
      "File \u001b[0;32m~/code/resolve-ui/.venv/lib/python3.10/site-packages/pymediainfo/__init__.py:431\u001b[0m, in \u001b[0;36mMediaInfo.parse\u001b[0;34m(cls, filename, library_file, cover_data, encoding_errors, parse_speed, full, legacy_stream_display, mediainfo_options, output)\u001b[0m\n\u001b[1;32m    352\u001b[0m \u001b[39m@classmethod\u001b[39m\n\u001b[1;32m    353\u001b[0m \u001b[39mdef\u001b[39;00m \u001b[39mparse\u001b[39m(\n\u001b[1;32m    354\u001b[0m     \u001b[39m# pylint: disable=too-many-statements\u001b[39;00m\n\u001b[0;32m   (...)\u001b[0m\n\u001b[1;32m    365\u001b[0m     output: Optional[\u001b[39mstr\u001b[39m] \u001b[39m=\u001b[39m \u001b[39mNone\u001b[39;00m,\n\u001b[1;32m    366\u001b[0m ) \u001b[39m-\u001b[39m\u001b[39m>\u001b[39m Union[\u001b[39mstr\u001b[39m, \u001b[39m\"\u001b[39m\u001b[39mMediaInfo\u001b[39m\u001b[39m\"\u001b[39m]:\n\u001b[1;32m    367\u001b[0m     \u001b[39m\"\"\"\u001b[39;00m\n\u001b[1;32m    368\u001b[0m \u001b[39m    Analyze a media file using libmediainfo.\u001b[39;00m\n\u001b[1;32m    369\u001b[0m \n\u001b[0;32m   (...)\u001b[0m\n\u001b[1;32m    429\u001b[0m \n\u001b[1;32m    430\u001b[0m \u001b[39m    \"\"\"\u001b[39;00m\n\u001b[0;32m--> 431\u001b[0m     lib, handle, lib_version_str, lib_version \u001b[39m=\u001b[39m \u001b[39mcls\u001b[39;49m\u001b[39m.\u001b[39;49m_get_library(library_file)\n\u001b[1;32m    432\u001b[0m     \u001b[39m# The XML option was renamed starting with version 17.10\u001b[39;00m\n\u001b[1;32m    433\u001b[0m     \u001b[39mif\u001b[39;00m lib_version \u001b[39m>\u001b[39m\u001b[39m=\u001b[39m (\u001b[39m17\u001b[39m, \u001b[39m10\u001b[39m):\n",
      "File \u001b[0;32m~/code/resolve-ui/.venv/lib/python3.10/site-packages/pymediainfo/__init__.py:329\u001b[0m, in \u001b[0;36mMediaInfo._get_library\u001b[0;34m(cls, library_file)\u001b[0m\n\u001b[1;32m    327\u001b[0m     \u001b[39mexcept\u001b[39;00m \u001b[39mOSError\u001b[39;00m \u001b[39mas\u001b[39;00m exc:\n\u001b[1;32m    328\u001b[0m         exceptions\u001b[39m.\u001b[39mappend(\u001b[39mstr\u001b[39m(exc))\n\u001b[0;32m--> 329\u001b[0m \u001b[39mraise\u001b[39;00m \u001b[39mOSError\u001b[39;00m(\n\u001b[1;32m    330\u001b[0m     \u001b[39m\"\u001b[39m\u001b[39mFailed to load library from \u001b[39m\u001b[39m{}\u001b[39;00m\u001b[39m - \u001b[39m\u001b[39m{}\u001b[39;00m\u001b[39m\"\u001b[39m\u001b[39m.\u001b[39mformat(\n\u001b[1;32m    331\u001b[0m         \u001b[39m\"\u001b[39m\u001b[39m, \u001b[39m\u001b[39m\"\u001b[39m\u001b[39m.\u001b[39mjoin(library_paths), \u001b[39m\"\u001b[39m\u001b[39m, \u001b[39m\u001b[39m\"\u001b[39m\u001b[39m.\u001b[39mjoin(exceptions)\n\u001b[1;32m    332\u001b[0m     )\n\u001b[1;32m    333\u001b[0m )\n",
      "\u001b[0;31mOSError\u001b[0m: Failed to load library from libmediainfo.0.dylib, libmediainfo.dylib - dlopen(libmediainfo.0.dylib, 0x0006): tried: 'libmediainfo.0.dylib' (no such file), '/usr/local/lib/libmediainfo.0.dylib' (no such file), '/usr/lib/libmediainfo.0.dylib' (no such file), '/Users/thom/code/resolve-ui/src/libmediainfo.0.dylib' (no such file), dlopen(libmediainfo.dylib, 0x0006): tried: 'libmediainfo.dylib' (no such file), '/usr/local/lib/libmediainfo.dylib' (no such file), '/usr/lib/libmediainfo.dylib' (no such file), '/Users/thom/code/resolve-ui/src/libmediainfo.dylib' (no such file)"
     ]
    }
   ],
   "source": [
    "from pymediainfo import MediaInfo\n",
    "\n",
    "media_info = MediaInfo.parse(\"/Users/thom/Desktop/KAT2-太阳照常升起前-220930.mp4\")\n",
    "general_track = media_info.general_tracks[0]\n",
    "image_track = media_info.image_tracks[0]\n",
    "print(\n",
    "    f\"{image_track.format} of {image_track.width}×{image_track.height} pixels\"\n",
    "    f\" and {general_track.file_size} bytes.\"\n",
    ")"
   ]
  },
  {
   "cell_type": "code",
   "execution_count": null,
   "metadata": {},
   "outputs": [],
   "source": []
  }
 ],
 "metadata": {
  "kernelspec": {
   "display_name": "Python 3.10.7 ('.venv': venv)",
   "language": "python",
   "name": "python3"
  },
  "language_info": {
   "codemirror_mode": {
    "name": "ipython",
    "version": 3
   },
   "file_extension": ".py",
   "mimetype": "text/x-python",
   "name": "python",
   "nbconvert_exporter": "python",
   "pygments_lexer": "ipython3",
   "version": "3.10.7"
  },
  "orig_nbformat": 4,
  "vscode": {
   "interpreter": {
    "hash": "02a2ddf693e0c6c73b592194f1e36cf4aa82ac37f96714042e39ac36ed2659e7"
   }
  }
 },
 "nbformat": 4,
 "nbformat_minor": 2
}
